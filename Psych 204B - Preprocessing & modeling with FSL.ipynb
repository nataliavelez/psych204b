{
 "cells": [
  {
   "cell_type": "markdown",
   "metadata": {},
   "source": [
    "## Setting up environment"
   ]
  },
  {
   "cell_type": "code",
   "execution_count": 1,
   "metadata": {
    "collapsed": false
   },
   "outputs": [
    {
     "name": "stdout",
     "output_type": "stream",
     "text": [
      "/Users/sll-members/fmri/Psych_204b\n"
     ]
    }
   ],
   "source": [
    "import os                                    # system functions\n",
    "\n",
    "import nipype.interfaces.io as nio           # Data i/o\n",
    "import nipype.interfaces.fsl as fsl          # fsl\n",
    "import nipype.interfaces.utility as util     # utility\n",
    "import nipype.pipeline.engine as pe          # pypeline engine\n",
    "import nipype.algorithms.modelgen as model   # model generation\n",
    "import nipype.algorithms.rapidart as ra      # artifact detection\n",
    "\n",
    "# Extra interfaces (not used for now!)\n",
    "import nipype.interfaces.matlab as matlab\n",
    "import nipype.interfaces.freesurfer as fs\n",
    "\n",
    "# Useful functions\n",
    "from os.path import join as opj\n",
    "import glob\n",
    "from nipype.interfaces.base import Bunch\n",
    "from numpy import diff\n",
    "\n",
    "# Debugging\n",
    "from nipype import config\n",
    "config.enable_debug_mode() # Debug mode on\n",
    "cfg = dict(loggging = dict(workflow_level = 'DEBUG'),\n",
    "          execution ={'stop_on_first_crash': True,\n",
    "                     'hash_method': 'content'})\n",
    "config.update_config(cfg)\n",
    "\n",
    "# Set up environment\n",
    "wd = os.getcwd()\n",
    "subjdir = opj(wd, 'kalanit_fsl')\n",
    "fs_dir = '/Users/sll-members/fmri/software/freesurfer/subjects'\n",
    "matlab.MatlabCommand.set_default_matlab_cmd('/Applications/MATLAB_R2012b.app/bin/matlab -nodesktop -nosplash')\n",
    "fs.FSCommand.set_default_subjects_dir(fs_dir)\n",
    "\n",
    "# Define important files\n",
    "anat_file = opj(subjdir, '3Danatomy', 't1.nii')\n",
    "bold_files = [opj(subjdir, f) for f in os.listdir(subjdir) if 'BOLD' in f]\n",
    "inplane_file = glob.glob(opj(subjdir, '*Inplane*'))[0]\n",
    "\n",
    "print wd"
   ]
  },
  {
   "cell_type": "markdown",
   "metadata": {},
   "source": [
    "## Preprocessing/modeling pipeline\n",
    "\n",
    "### Preprocessing workflow"
   ]
  },
  {
   "cell_type": "code",
   "execution_count": 2,
   "metadata": {
    "collapsed": false
   },
   "outputs": [],
   "source": [
    "# Import workflows\n",
    "from nipype.workflows.fmri.fsl.preprocess import create_fsl_fs_preproc\n",
    "from nipype.workflows.fmri.fsl.estimate import create_modelfit_workflow\n",
    "from nipype.workflows.fmri.fsl.estimate import create_fixed_effects_flow\n",
    "\n",
    "# Reorient to standard\n",
    "reorient = pe.MapNode(fsl.Reorient2Std(), iterfield = ['in_file'], name = 'reorient')\n",
    "\n",
    "# Get total length of image file\n",
    "def gettsize(func):\n",
    "    from nibabel import load\n",
    "    _,_,_,timepoints = load(func).get_shape()\n",
    "    tsize = timepoints - 4\n",
    "    return tsize\n",
    "\n",
    "tsize = pe.MapNode(util.Function(input_names = ['func'],\n",
    "                                 output_names = ['tsize'],\n",
    "                                 function = gettsize),\n",
    "                   iterfield = ['func'],\n",
    "                   name = 'tsize')\n",
    "\n",
    "\n",
    "# Clip first 4 frames\n",
    "fslroi = pe.MapNode(fsl.ExtractROI(t_min = 4), \n",
    "                    iterfield = ['in_file', 't_size'], \n",
    "                    name = 'fslroi')\n",
    "\n",
    "# Preprocessing\n",
    "preproc = create_fsl_fs_preproc(whichvol = 'middle')\n",
    "preproc.base_dir = opj(subjdir, 'tmp')\n",
    "preproc.inputs.inputspec.fwhm = 0\n",
    "preproc.inputs.inputspec.highpass = 0\n",
    "preproc.inputs.inputspec.subject_id = 'kalanit'\n",
    "preproc.inputs.inputspec.subjects_dir = fs_dir\n",
    "\n",
    "# Artifact detection\n",
    "art = pe.Node(ra.ArtifactDetect(parameter_source = 'FSL',\n",
    "                               mask_type = 'file',\n",
    "                               norm_threshold = 1,\n",
    "                               zintensity_threshold = 3),\n",
    "             name = 'art')"
   ]
  },
  {
   "cell_type": "markdown",
   "metadata": {},
   "source": [
    "### Subject info (for modeling)"
   ]
  },
  {
   "cell_type": "code",
   "execution_count": 3,
   "metadata": {
    "collapsed": false
   },
   "outputs": [],
   "source": [
    "# List of contrasts\n",
    "condition_names = ['adult', 'child', 'body', 'limb',\n",
    "                   'car', 'instrument', 'corridor',\n",
    "                   'house', 'word', 'number'];\n",
    "\n",
    "contrast_list = [('adult', 'T', condition_names, [1, 0, 0, 0, 0, 0, 0, 0, 0, 0]),\n",
    "                ('child', 'T', condition_names, [0, 1, 0, 0, 0, 0, 0, 0, 0, 0]),\n",
    "                ('body', 'T', condition_names, [0, 0, 1, 0, 0, 0, 0, 0, 0, 0]),\n",
    "                ('limb', 'T', condition_names, [0, 0, 0, 1, 0, 0, 0, 0, 0, 0]),\n",
    "                ('car', 'T', condition_names, [0, 0, 0, 0, 1, 0, 0, 0, 0, 0]),\n",
    "                ('instrument', 'T', condition_names, [0, 0, 0, 0, 0, 1, 0, 0, 0, 0]),\n",
    "                ('corridor', 'T', condition_names, [0, 0, 0, 0, 0, 0, 1, 0, 0, 0]),\n",
    "                ('house', 'T', condition_names, [0, 0, 0, 0, 0, 0, 0, 1, 0, 0]),\n",
    "                ('word', 'T', condition_names, [0, 0, 0, 0, 0, 0, 0, 0, 1, 0]),\n",
    "                ('number', 'T', condition_names, [0, 0, 0, 0, 0, 0, 0, 0, 0, 1]),\n",
    "                ('faces > places', 'T', condition_names, [1, 1, 0, 0, 0, 0, -1, -1, 0, 0]),\n",
    "                ('places > faces', 'T', condition_names, [-1, -1, 0, 0, 0, 0, 1, 1, 0, 0]),\n",
    "                ('bodies > objects', 'T', condition_names, [0, 0, 1, 1, -1, -1, 0, 0, 0, 0]),\n",
    "                ('animate > inanimate', 'T', condition_names, [1, 1, 1, 1, -1, -1, -1, -1, 0, 0]),\n",
    "                ('inanimate > animate', 'T', condition_names, [-1, -1, -1, -1, 1, 1, 1, 1, 0, 0]),\n",
    "                ]\n",
    "\n",
    "# Create subject info\n",
    "model_files = glob.glob(opj(subjdir, 'Model', '*.txt'))\n",
    "subjectinfo = []\n",
    "\n",
    "for r in range(len(model_files)):\n",
    "    # Read model info\n",
    "    model_f = open(model_files[r], 'r')\n",
    "    model_str = model_f.read()\n",
    "    model_info = [s.split('\\t') for s in model_str.split('\\r')]\n",
    "    model_f.close()\n",
    "\n",
    "    # Clean up model_info\n",
    "    for i in range(len(model_info)):\n",
    "        model_info[i][0] = int(model_info[i][0])\n",
    "\n",
    "    # Get onsets\n",
    "    all_onsets = [m[0] for m in model_info]\n",
    "    run_dur = [list(set(diff(all_onsets)))]\n",
    "    cond_durs = run_dur*len(condition_names)\n",
    "\n",
    "    # Split onsets by condition\n",
    "    cond_onsets = [[m[0] for m in model_info if m[2] == c] for c in condition_names]\n",
    "\n",
    "    # Create Bunch object\n",
    "    subjectinfo.insert(r, Bunch(conditions = condition_names,\n",
    "                                onsets = cond_onsets,\n",
    "                                durations = cond_durs))"
   ]
  },
  {
   "cell_type": "markdown",
   "metadata": {},
   "source": [
    "### Modeling"
   ]
  },
  {
   "cell_type": "code",
   "execution_count": 4,
   "metadata": {
    "collapsed": false
   },
   "outputs": [],
   "source": [
    "# Specify model\n",
    "modelspec = pe.Node(model.SpecifyModel(input_units = 'secs',\n",
    "                                      time_repetition = 2.0,\n",
    "                                      high_pass_filter_cutoff = 0,\n",
    "                                      subject_info = subjectinfo), \n",
    "                    name = 'modelspec')\n",
    "\n",
    "# First level modeling\n",
    "lvl1model = create_modelfit_workflow()\n",
    "lvl1model.inputs.inputspec.interscan_interval = 2.0\n",
    "lvl1model.inputs.inputspec.contrasts = contrast_list\n",
    "lvl1model.inputs.inputspec.model_serial_correlations = True\n",
    "lvl1model.inputs.inputspec.bases = {'dgamma':{'derivs': False}}\n",
    "\n",
    "# Fixed effects modeling\n",
    "fixedfx = create_fixed_effects_flow()"
   ]
  },
  {
   "cell_type": "markdown",
   "metadata": {},
   "source": [
    "### Input/output specification"
   ]
  },
  {
   "cell_type": "code",
   "execution_count": 5,
   "metadata": {
    "collapsed": false
   },
   "outputs": [],
   "source": [
    "# Create input node\n",
    "inputnode = pe.Node(util.IdentityInterface(fields = ['func', 'struct']),\n",
    "                   name = 'inputspec')\n",
    "inputnode.inputs.func = bold_files\n",
    "inputnode.inputs.struct = anat_file\n",
    "\n",
    "# Create datasink\n",
    "datasink = pe.Node(nio.DataSink(base_directory = subjdir,\n",
    "                               container = 'result'),\n",
    "                  name = 'datasink')"
   ]
  },
  {
   "cell_type": "markdown",
   "metadata": {},
   "source": [
    "### Connect preprocessing and first-level workflows"
   ]
  },
  {
   "cell_type": "code",
   "execution_count": 6,
   "metadata": {
    "collapsed": false
   },
   "outputs": [],
   "source": [
    "lv1_workflow = pe.Workflow(name = 'metaflow')\n",
    "lv1_workflow.base_dir = opj(subjdir, 'tmp')\n",
    "\n",
    "# TODO: lvl1model missing functional data?\n",
    "lv1_workflow.connect([(inputnode, reorient, [('func', 'in_file')]),\n",
    "                      (reorient, tsize, [('out_file', 'func')]),\n",
    "                      (reorient, fslroi, [('out_file', 'in_file')]),\n",
    "                      (tsize, fslroi, [('tsize', 't_size')]),\n",
    "                      (fslroi, preproc, [('roi_file', 'inputspec.func')]),\n",
    "                      (preproc, art, [('outputspec.motion_parameters',\n",
    "                                       'realignment_parameters'),\n",
    "                                      ('outputspec.realigned_files', 'realigned_files'),\n",
    "                                      ('outputspec.mask_file', 'mask_file')]),\n",
    "                      (preproc, modelspec, [('outputspec.highpassed_files',\n",
    "                                             'functional_runs')]),\n",
    "                      (art, modelspec, [('outlier_files', 'outlier_files')]),\n",
    "                      (modelspec, lvl1model, [('session_info', 'inputspec.session_info')]),\n",
    "                      (preproc, lvl1model, [('outputspec.highpassed_files',\n",
    "                                             'inputspec.functional_data')]),\n",
    "                      (preproc, fixedfx, [('outputspec.mask_file', 'flameo.mask_file')]),\n",
    "                 ])"
   ]
  },
  {
   "cell_type": "markdown",
   "metadata": {},
   "source": [
    "### Connect first-level and fixed effect workflows"
   ]
  },
  {
   "cell_type": "code",
   "execution_count": 7,
   "metadata": {
    "collapsed": false
   },
   "outputs": [],
   "source": [
    "def sort_copes(files):\n",
    "    numelements = len(files[0])\n",
    "    outfiles = []\n",
    "    for i in range(numelements):\n",
    "        outfiles.insert(i,[])\n",
    "        for j, elements in enumerate(files):\n",
    "            outfiles[i].append(elements[i])\n",
    "    return outfiles\n",
    "\n",
    "def sort_varcopes(files):\n",
    "    numelements = len(files[0])\n",
    "    outfiles = []\n",
    "    for i in range(numelements):\n",
    "        outfiles.insert(i,[])\n",
    "        for j, elements in enumerate(files):\n",
    "            outfiles[i].append(elements[i])\n",
    "    return outfiles\n",
    "\n",
    "copesort = pe.Node(util.Function(input_names = ['files'],\n",
    "                                 output_names = ['outfiles'],\n",
    "                                 function = sort_copes),\n",
    "                   name = 'copesort')\n",
    "\n",
    "varcopesort = pe.Node(util.Function(input_names = ['files'],\n",
    "                                    output_names = ['outfiles'],\n",
    "                                    function = sort_varcopes),\n",
    "                      name = 'varcopesort')\n",
    "\n",
    "def num_copes(files):\n",
    "    return len(files)\n",
    "\n",
    "ncopes = pe.Node(util.Function(input_names = ['files'],\n",
    "                               output_names = ['num_copes'],\n",
    "                               function = num_copes),\n",
    "                 name = 'ncopes')\n",
    "\n",
    "pickfirst = lambda x : x[0]\n",
    "first = pe.Node(util.Function(input_names = ['x'],\n",
    "                              output_names = ['first_file'],\n",
    "                              function = pickfirst),\n",
    "                name = 'first')\n",
    "\n",
    "#(preproc, first, [('outputspec.mask_file', 'x')]),\n",
    "                      #(first, fixedfx, [('first_file', 'flameo.mask_file')]),\n",
    "lv1_workflow.connect([(lvl1model, ncopes, [('outputspec.copes', 'files')]),\n",
    "                      (lvl1model, copesort, [('outputspec.copes', 'files')]),\n",
    "                      (lvl1model, varcopesort, [('outputspec.varcopes', 'files')]),\n",
    "                      (lvl1model, fixedfx, [('outputspec.dof_file',\n",
    "                                            'inputspec.dof_files')]),\n",
    "                      (copesort, fixedfx, [('outfiles', 'inputspec.copes')]),\n",
    "                      (varcopesort, fixedfx, [('outfiles', 'inputspec.varcopes')]),\n",
    "                      (ncopes, fixedfx, [('num_copes', 'l2model.num_copes')])\n",
    "                     ])"
   ]
  },
  {
   "cell_type": "markdown",
   "metadata": {},
   "source": [
    "### Create datasink"
   ]
  },
  {
   "cell_type": "code",
   "execution_count": 8,
   "metadata": {
    "collapsed": false
   },
   "outputs": [],
   "source": [
    "lv1_workflow.connect([(preproc, datasink, [('outputspec.motion_parameters', 'report'),\n",
    "                                          ('outputspec.motion_plots', 'report.@plot'),\n",
    "                                          ('outputspec.realigned_files', 'bold.realign'),\n",
    "                                          ('outputspec.smoothed_files', 'bold.smooth'),\n",
    "                                          ('outputspec.highpassed_files', 'bold.highpass'),\n",
    "                                          ('outputspec.reg_file', 'fs.@registration'),\n",
    "                                          ('outputspec.reg_cost', 'fs.@reg_cost'),\n",
    "                                          ('outputspec.reference', 'qa.@reference'),\n",
    "                                          ('outputspec.mask_file', 'mask')]),\n",
    "                     (lvl1model, datasink, [('outputspec.zfiles', '1stlevel'),\n",
    "                                           ('outputspec.parameter_estimates', \n",
    "                                            '1stlevel.@param')]),\n",
    "                      (fixedfx, datasink, [('outputspec.zstats', 'fixedfx.@zstats'),\n",
    "                                          ('outputspec.copes', 'fixedfx.@con'),\n",
    "                                          ('outputspec.varcopes', 'fixedfx.@variance'),\n",
    "                                          ('outputspec.tstats', 'fixedfx.@tstats'),\n",
    "                                          ('outputspec.res4d', 'fixedfx.@residuals')])\n",
    "                     ])"
   ]
  },
  {
   "cell_type": "markdown",
   "metadata": {},
   "source": [
    "### Run workflow!"
   ]
  },
  {
   "cell_type": "code",
   "execution_count": 9,
   "metadata": {
    "collapsed": false
   },
   "outputs": [
    {
     "name": "stderr",
     "output_type": "stream",
     "text": [
      "/Users/sll-members/anaconda/lib/python2.7/site-packages/IPython/kernel/__init__.py:13: ShimWarning: The `IPython.kernel` package has been deprecated. You should import from ipykernel or jupyter_client instead.\n",
      "  \"You should import from ipykernel or jupyter_client instead.\", ShimWarning)\n",
      "/Users/sll-members/anaconda/lib/python2.7/site-packages/IPython/parallel.py:13: ShimWarning: The `IPython.parallel` package has been deprecated. You should import from ipyparallel instead.\n",
      "  \"You should import from ipyparallel instead.\", ShimWarning)\n",
      "/Users/sll-members/anaconda/lib/python2.7/site-packages/numpy/lib/npyio.py:893: UserWarning: loadtxt: Empty input file: \"/Users/sll-members/fmri/Psych_204b/kalanit_fsl/tmp/metaflow/modelspec/art.07_1_BOLD_EPI_24mm_2sec_Accel2_reoriented_roi_dtype_mcf_outliers.txt\"\n",
      "  warnings.warn('loadtxt: Empty input file: \"%s\"' % fname)\n",
      "/Users/sll-members/anaconda/lib/python2.7/site-packages/numpy/lib/npyio.py:893: UserWarning: loadtxt: Empty input file: \"/Users/sll-members/fmri/Psych_204b/kalanit_fsl/tmp/metaflow/modelspec/art.07_2_BOLD_EPI_24mm_2sec_Accel2_reoriented_roi_dtype_mcf_outliers.txt\"\n",
      "  warnings.warn('loadtxt: Empty input file: \"%s\"' % fname)\n",
      "/Users/sll-members/anaconda/lib/python2.7/site-packages/numpy/lib/npyio.py:893: UserWarning: loadtxt: Empty input file: \"/Users/sll-members/fmri/Psych_204b/kalanit_fsl/tmp/metaflow/modelspec/art.07_3_BOLD_EPI_24mm_2sec_Accel2_reoriented_roi_dtype_mcf_outliers.txt\"\n",
      "  warnings.warn('loadtxt: Empty input file: \"%s\"' % fname)\n",
      "/Users/sll-members/anaconda/lib/python2.7/site-packages/numpy/lib/npyio.py:893: UserWarning: loadtxt: Empty input file: \"/Users/sll-members/fmri/Psych_204b/kalanit_fsl/tmp/metaflow/modelspec/art.08_1_BOLD_EPI_24mm_2sec_Accel2_reoriented_roi_dtype_mcf_outliers.txt\"\n",
      "  warnings.warn('loadtxt: Empty input file: \"%s\"' % fname)\n",
      "/Users/sll-members/anaconda/lib/python2.7/site-packages/numpy/lib/npyio.py:893: UserWarning: loadtxt: Empty input file: \"/Users/sll-members/fmri/Psych_204b/kalanit_fsl/tmp/metaflow/modelspec/art.08_2_BOLD_EPI_24mm_2sec_Accel2_reoriented_roi_dtype_mcf_outliers.txt\"\n",
      "  warnings.warn('loadtxt: Empty input file: \"%s\"' % fname)\n",
      "/Users/sll-members/anaconda/lib/python2.7/site-packages/numpy/lib/npyio.py:893: UserWarning: loadtxt: Empty input file: \"/Users/sll-members/fmri/Psych_204b/kalanit_fsl/tmp/metaflow/modelspec/art.09_1_BOLD_EPI_24mm_2sec_Accel2_reoriented_roi_dtype_mcf_outliers.txt\"\n",
      "  warnings.warn('loadtxt: Empty input file: \"%s\"' % fname)\n",
      "/Users/sll-members/anaconda/lib/python2.7/site-packages/numpy/lib/npyio.py:893: UserWarning: loadtxt: Empty input file: \"/Users/sll-members/fmri/Psych_204b/kalanit_fsl/tmp/metaflow/modelspec/art.09_3_BOLD_EPI_24mm_2sec_Accel2_reoriented_roi_dtype_mcf_outliers.txt\"\n",
      "  warnings.warn('loadtxt: Empty input file: \"%s\"' % fname)\n",
      "/Users/sll-members/anaconda/lib/python2.7/site-packages/numpy/lib/npyio.py:893: UserWarning: loadtxt: Empty input file: \"/Users/sll-members/fmri/Psych_204b/kalanit_fsl/tmp/metaflow/modelspec/art.10_1_BOLD_EPI_24mm_2sec_Accel2_reoriented_roi_dtype_mcf_outliers.txt\"\n",
      "  warnings.warn('loadtxt: Empty input file: \"%s\"' % fname)\n"
     ]
    },
    {
     "data": {
      "text/plain": [
       "<networkx.classes.digraph.DiGraph at 0x10feb19d0>"
      ]
     },
     "execution_count": 9,
     "metadata": {},
     "output_type": "execute_result"
    }
   ],
   "source": [
    "lv1_workflow.run()"
   ]
  },
  {
   "cell_type": "markdown",
   "metadata": {
    "collapsed": false
   },
   "source": [
    "# Classifier"
   ]
  },
  {
   "cell_type": "code",
   "execution_count": 10,
   "metadata": {
    "collapsed": false
   },
   "outputs": [
    {
     "data": {
      "text/plain": [
       "\n",
       "highpassed_files = None\n",
       "mask_file = None\n",
       "motion_parameters = None\n",
       "motion_plots = None\n",
       "realigned_files = None\n",
       "reference = None\n",
       "reg_cost = None\n",
       "reg_file = None\n",
       "smoothed_files = None"
      ]
     },
     "execution_count": 10,
     "metadata": {},
     "output_type": "execute_result"
    }
   ],
   "source": [
    "preproc.outputs.outputspec"
   ]
  },
  {
   "cell_type": "code",
   "execution_count": null,
   "metadata": {
    "collapsed": true
   },
   "outputs": [],
   "source": []
  }
 ],
 "metadata": {
  "kernelspec": {
   "display_name": "Python 2",
   "language": "python",
   "name": "python2"
  },
  "language_info": {
   "codemirror_mode": {
    "name": "ipython",
    "version": 2
   },
   "file_extension": ".py",
   "mimetype": "text/x-python",
   "name": "python",
   "nbconvert_exporter": "python",
   "pygments_lexer": "ipython2",
   "version": "2.7.11"
  }
 },
 "nbformat": 4,
 "nbformat_minor": 0
}
