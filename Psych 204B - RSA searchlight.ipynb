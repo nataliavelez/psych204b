{
 "cells": [
  {
   "cell_type": "markdown",
   "metadata": {},
   "source": [
    "## Setting up environment\n",
    "\n",
    "### Load dependencies"
   ]
  },
  {
   "cell_type": "code",
   "execution_count": 40,
   "metadata": {
    "collapsed": false
   },
   "outputs": [],
   "source": [
    "%matplotlib inline\n",
    "\n",
    "import numpy\n",
    "import nibabel\n",
    "import os\n",
    "import matplotlib.pyplot as plt\n",
    "\n",
    "# Useful functions\n",
    "from nilearn.input_data import NiftiMasker\n",
    "from os.path import join as opj\n",
    "import sklearn.manifold\n",
    "import scipy.cluster.hierarchy\n",
    "import glob\n",
    "from nipype.interfaces.base import Bunch\n",
    "\n",
    "\n",
    "# Home directory\n",
    "wd = os.getcwd()\n",
    "subjdir = opj(wd, 'kalanit_fsl')\n",
    "modeldir = opj(subjdir, 'Model')\n",
    "bolddir = opj(subjdir, 'result', 'bold', 'highpass')\n",
    "zdir = opj(subjdir, 'result', '1stlevel')"
   ]
  },
  {
   "cell_type": "markdown",
   "metadata": {},
   "source": [
    "### Load BOLD and z-stat files"
   ]
  },
  {
   "cell_type": "code",
   "execution_count": 15,
   "metadata": {
    "collapsed": false
   },
   "outputs": [],
   "source": [
    "boldfiles = []\n",
    "for root, dirs, files in os.walk(bolddir):\n",
    "    for f in files:\n",
    "        if f.endswith('.nii.gz'):\n",
    "            boldfiles.append(opj(root, f))\n",
    "            \n",
    "ztemplate = opj(zdir, '_modelestimate%d', 'zstat%d.nii.gz')\n",
    "zdata = numpy.empty((10, 10), dtype = object)\n",
    "zdata_flat = numpy.copy(zdata)\n",
    "\n",
    "for run in range(10):\n",
    "    for cond in range(10):\n",
    "        fname = ztemplate % (run, cond+1)\n",
    "        img_data = nibabel.load(fname).get_data()\n",
    "        img_flat = img_data.flatten()\n",
    "        zdata[run, cond] = img_flat"
   ]
  },
  {
   "cell_type": "markdown",
   "metadata": {},
   "source": [
    "### Load model information"
   ]
  },
  {
   "cell_type": "code",
   "execution_count": 16,
   "metadata": {
    "collapsed": false
   },
   "outputs": [],
   "source": [
    "# List of contrasts\n",
    "condition_names = ['adult', 'child', 'body', 'limb',\n",
    "                   'car', 'instrument', 'corridor',\n",
    "                   'house', 'word', 'number'];\n",
    "\n",
    "model_files = glob.glob(opj(subjdir, 'Model', '*.txt'))\n",
    "subjectinfo = []\n",
    "\n",
    "for r in range(len(model_files)):\n",
    "    # Read model info\n",
    "    model_f = open(model_files[r], 'r')\n",
    "    model_str = model_f.read()\n",
    "    model_info = [s.split('\\t') for s in model_str.split('\\r')]\n",
    "    model_f.close()\n",
    "\n",
    "    # Clean up model_info\n",
    "    for i in range(len(model_info)):\n",
    "        model_info[i][0] = int(model_info[i][0])\n",
    "\n",
    "    # Get onsets\n",
    "    all_onsets = [m[0] for m in model_info]\n",
    "    run_dur = [list(set(numpy.diff(all_onsets)))]\n",
    "    cond_durs = run_dur*len(condition_names)\n",
    "\n",
    "    # Split onsets by condition\n",
    "    cond_onsets = [[m[0] for m in model_info if m[2] == c] for c in condition_names]\n",
    "\n",
    "    # Create Bunch object\n",
    "    subjectinfo.insert(r, Bunch(conditions = condition_names,\n",
    "                                onsets = cond_onsets,\n",
    "                                durations = cond_durs))"
   ]
  },
  {
   "cell_type": "code",
   "execution_count": null,
   "metadata": {
    "collapsed": false
   },
   "outputs": [],
   "source": []
  },
  {
   "cell_type": "markdown",
   "metadata": {},
   "source": [
    "## Compute within- and between-run correlations\n",
    "\n",
    "Compute *all* correlations:"
   ]
  },
  {
   "cell_type": "code",
   "execution_count": 18,
   "metadata": {
    "collapsed": false
   },
   "outputs": [],
   "source": [
    "all_correlations = numpy.zeros((10, 10, 10, 10))\n",
    "\n",
    "# Compute all correlations\n",
    "for cond_i in range(10):\n",
    "    for cond_j in range(10):\n",
    "        for run_i in range(10):\n",
    "            for run_j in range(10):\n",
    "                data_i = zdata[run_i, cond_i]\n",
    "                data_j = zdata[run_j, cond_j]\n",
    "                r = numpy.corrcoef(data_i, data_j)[0, 1]\n",
    "                all_correlations[cond_i, cond_j, run_i, run_j] = r"
   ]
  },
  {
   "cell_type": "markdown",
   "metadata": {},
   "source": [
    "Compute *average* correlation for each pair of conditions, across runs:"
   ]
  },
  {
   "cell_type": "code",
   "execution_count": 38,
   "metadata": {
    "collapsed": false
   },
   "outputs": [],
   "source": [
    "rdm = numpy.zeros((10, 10))\n",
    "\n",
    "for cond_i in range(10):\n",
    "    for cond_j in range(10):\n",
    "        # Get all correlations\n",
    "        cond_ij = all_correlations[cond_i, cond_j, :, :]\n",
    "        \n",
    "        # Remove diagonals\n",
    "        cond_ij = numpy.hstack((cond_ij[numpy.triu_indices(10, 1)],\n",
    "                                cond_ij[numpy.tril_indices(10, 1)]))\n",
    "        \n",
    "        rdm[cond_i, cond_j] = numpy.mean(cond_ij)"
   ]
  },
  {
   "cell_type": "markdown",
   "metadata": {},
   "source": [
    "## Display representational dissimilarity matrix"
   ]
  },
  {
   "cell_type": "code",
   "execution_count": 42,
   "metadata": {
    "collapsed": false
   },
   "outputs": [
    {
     "data": {
      "image/png": "[encoded data removed]",
      "text/plain": [
       "<matplotlib.figure.Figure at 0x1029f0510>"
      ]
     },
     "metadata": {},
     "output_type": "display_data"
    }
   ],
   "source": [
    "# Helper function to display RDM\n",
    "def plot_mtx(mtx, labels, title):\n",
    "    plt.figure()\n",
    "    plt.imshow(mtx, interpolation = 'nearest')\n",
    "    plt.xticks(range(len(mtx)), labels, rotation = -45)\n",
    "    plt.yticks(range(len(mtx)), labels)\n",
    "    plt.title(title)\n",
    "    plt.clim((0, 1))\n",
    "    plt.colorbar()\n",
    "    \n",
    "plot_mtx(rdm, condition_names, 'Whole-brain RSA, based on z-statistics')"
   ]
  },
  {
   "cell_type": "code",
   "execution_count": 37,
   "metadata": {
    "collapsed": false
   },
   "outputs": [
    {
     "data": {
      "text/plain": [
       "(10, 10)"
      ]
     },
     "execution_count": 37,
     "metadata": {},
     "output_type": "execute_result"
    }
   ],
   "source": []
  },
  {
   "cell_type": "code",
   "execution_count": null,
   "metadata": {
    "collapsed": true
   },
   "outputs": [],
   "source": []
  }
 ],
 "metadata": {
  "kernelspec": {
   "display_name": "Python 2",
   "language": "python",
   "name": "python2"
  },
  "language_info": {
   "codemirror_mode": {
    "name": "ipython",
    "version": 2
   },
   "file_extension": ".py",
   "mimetype": "text/x-python",
   "name": "python",
   "nbconvert_exporter": "python",
   "pygments_lexer": "ipython2",
   "version": "2.7.11"
  }
 },
 "nbformat": 4,
 "nbformat_minor": 0
}
